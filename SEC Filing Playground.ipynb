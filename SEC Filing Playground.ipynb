{
 "cells": [
  {
   "cell_type": "code",
   "execution_count": 1,
   "metadata": {
    "collapsed": true
   },
   "outputs": [],
   "source": [
    "import html2text"
   ]
  },
  {
   "cell_type": "code",
   "execution_count": 2,
   "metadata": {
    "collapsed": true
   },
   "outputs": [],
   "source": [
    "%load_ext autotime"
   ]
  },
  {
   "cell_type": "code",
   "execution_count": 4,
   "metadata": {
    "collapsed": false
   },
   "outputs": [
    {
     "name": "stdout",
     "output_type": "stream",
     "text": [
      "time: 415 ms\n"
     ]
    }
   ],
   "source": [
    "import urllib.request\n",
    "with urllib.request.urlopen('http://www.sec.gov/Archives/edgar/data/9092/000000909214000004/bmi-20131231x10k.htm') as response:\n",
    "   html = response.read()"
   ]
  },
  {
   "cell_type": "code",
   "execution_count": 5,
   "metadata": {
    "collapsed": false
   },
   "outputs": [
    {
     "name": "stdout",
     "output_type": "stream",
     "text": [
      "time: 792 ms\n"
     ]
    }
   ],
   "source": [
    "text = html2text.html2text(html.decode())"
   ]
  },
  {
   "cell_type": "code",
   "execution_count": 37,
   "metadata": {
    "collapsed": false
   },
   "outputs": [
    {
     "name": "stdout",
     "output_type": "stream",
     "text": [
      "time: 103 ms\n"
     ]
    }
   ],
   "source": [
    "in_paragraph = False  # We are by default not \"inside\" of a paragraph yet\n",
    "newline_found = False # Two newlines denote a new paragraph\n",
    "setinel_found = False # Whether or not the $ has been encountered yet\n",
    "found = []            # This will hold all of the paragraphs with a $ in the text\n",
    "start_idx = -1        # Set index to -1 to indicate we aren't inside a paragraph yet\n",
    "end_idx = -1          # Do the same to indicate that we haven't reached the end either\n",
    "para_text = \"\"        # Holds the text of each paragraph\n",
    "for i in range(0, len(text)):\n",
    "    if not in_paragraph:\n",
    "        if text[i].isalnum():\n",
    "            in_paragraph = True\n",
    "            start_idx = i\n",
    "            para_text += text[i]\n",
    "    elif text[i] == '$':\n",
    "        setinel_found = True\n",
    "        para_text += text[i]\n",
    "    elif text[i] == '\\n':\n",
    "        if newline_found:\n",
    "            end_idx = i - 1\n",
    "            newline_found = False\n",
    "            if setinel_found:\n",
    "                found = found + [{'start': start_idx, 'end': end_idx, 'text': para_text}]\n",
    "            setinel_found = False\n",
    "            start_idx = -1\n",
    "            in_paragraph = False\n",
    "            para_text = \"\"\n",
    "        else:\n",
    "            newline_found = True\n",
    "            para_text += text[i]\n",
    "    else:\n",
    "        para_text += text[i]"
   ]
  },
  {
   "cell_type": "code",
   "execution_count": 34,
   "metadata": {
    "collapsed": false
   },
   "outputs": [
    {
     "name": "stdout",
     "output_type": "stream",
     "text": [
      "time: 703 µs\n"
     ]
    }
   ],
   "source": [
    "import json"
   ]
  },
  {
   "cell_type": "code",
   "execution_count": 38,
   "metadata": {
    "collapsed": false
   },
   "outputs": [
    {
     "name": "stdout",
     "output_type": "stream",
     "text": [
      "time: 3.79 ms\n"
     ]
    }
   ],
   "source": [
    "with open('paragraphs.txt', 'w') as fp:\n",
    "    json.dump(found, fp)"
   ]
  },
  {
   "cell_type": "code",
   "execution_count": 42,
   "metadata": {
    "collapsed": false
   },
   "outputs": [
    {
     "data": {
      "text/plain": [
       "210015"
      ]
     },
     "execution_count": 42,
     "metadata": {},
     "output_type": "execute_result"
    },
    {
     "name": "stdout",
     "output_type": "stream",
     "text": [
      "time: 3.6 ms\n"
     ]
    }
   ],
   "source": [
    "doc = open(\"document.txt\", \"w\")\n",
    "doc.write(text)"
   ]
  },
  {
   "cell_type": "code",
   "execution_count": 43,
   "metadata": {
    "collapsed": false
   },
   "outputs": [
    {
     "name": "stdout",
     "output_type": "stream",
     "text": [
      "time: 2.56 s\n"
     ]
    }
   ],
   "source": [
    "# Entire Solution in One Block\n",
    "\n",
    "import html2text\n",
    "import json\n",
    "import urllib.request\n",
    "\n",
    "url = 'http://www.sec.gov/Archives/edgar/data/9092/000000909214000004/bmi-20131231x10k.htm'\n",
    "\n",
    "with urllib.request.urlopen(url) as response:\n",
    "    html = response.read()\n",
    "    text = html2text.html2text(html.decode())\n",
    "    \n",
    "    doc = open(\"document.txt\", \"w\") # Open a file to write the plain text to\n",
    "    doc.write(text)                 # and dump the converted text into it\n",
    "    \n",
    "    in_paragraph = False  # We are by default not \"inside\" of a paragraph yet\n",
    "    newline_found = False # Two newlines denote a new paragraph\n",
    "    setinel_found = False # Whether or not the $ has been encountered yet\n",
    "    found = []            # This will hold all of the paragraphs with a $ in the text\n",
    "    start_idx = -1        # Set index to -1 to indicate we aren't inside a paragraph yet\n",
    "    end_idx = -1          # Do the same to indicate that we haven't reached the end either\n",
    "    para_text = \"\"        # Holds the text of each paragraph\n",
    "    \n",
    "    # Go through the plain text character by character, adding each\n",
    "    # character in a paragraph to a string, and if the setinel character\n",
    "    # is encountered, we add the paragraph to our list of paragraphs,\n",
    "    # noting its starting and ending index.\n",
    "    for i in range(0, len(text)):\n",
    "        if not in_paragraph:\n",
    "            if text[i].isalnum():\n",
    "                in_paragraph = True\n",
    "                start_idx = i\n",
    "                para_text += text[i]\n",
    "        elif text[i] == '$':\n",
    "            setinel_found = True\n",
    "            para_text += text[i]\n",
    "        elif text[i] == '\\n':\n",
    "            if newline_found:\n",
    "                end_idx = i - 1\n",
    "                newline_found = False\n",
    "                if setinel_found:\n",
    "                    found = found + [{'start': start_idx, 'end': end_idx, 'text': para_text}]\n",
    "                setinel_found = False\n",
    "                start_idx = -1\n",
    "                in_paragraph = False\n",
    "                para_text = \"\"\n",
    "            else:\n",
    "                newline_found = True\n",
    "                para_text += text[i]\n",
    "        else:\n",
    "            para_text += text[i]\n",
    "    with open('paragraphs.txt', 'w') as fp:\n",
    "        json.dump(found, fp)"
   ]
  },
  {
   "cell_type": "code",
   "execution_count": null,
   "metadata": {
    "collapsed": true
   },
   "outputs": [],
   "source": []
  }
 ],
 "metadata": {
  "kernelspec": {
   "display_name": "Python 3",
   "language": "python",
   "name": "python3"
  },
  "language_info": {
   "codemirror_mode": {
    "name": "ipython",
    "version": 3
   },
   "file_extension": ".py",
   "mimetype": "text/x-python",
   "name": "python",
   "nbconvert_exporter": "python",
   "pygments_lexer": "ipython3",
   "version": "3.5.0"
  }
 },
 "nbformat": 4,
 "nbformat_minor": 0
}
